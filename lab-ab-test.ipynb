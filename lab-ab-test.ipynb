{
 "cells": [
  {
   "cell_type": "markdown",
   "id": "angry-pearl",
   "metadata": {
    "toc": true
   },
   "source": [
    "<h1>Table of Contents<span class=\"tocSkip\"></span></h1>\n",
    "<div class=\"toc\"><ul class=\"toc-item\"><li><span><a href=\"#AB-Testing\" data-toc-modified-id=\"AB-Testing-1\"><span class=\"toc-item-num\">1&nbsp;&nbsp;</span>AB-Testing</a></span></li></ul></div>"
   ]
  },
  {
   "cell_type": "markdown",
   "id": "c92ba6e0",
   "metadata": {},
   "source": [
    "# AB-Testing\n",
    "\n",
    "![cats](images/cats.jpeg)\n",
    "\n",
    "\n",
    "Imaginad que somos los cientificos de datos de la empresa de videojuegos Tactile Entertainment. Los desarrolladores del juego Cookie Cats pretenden introducir un cambio en el juego para aumentar la retencion de los jugadores. En cierto nivel del juego los jugadores se encuentran una puerta que les obliga a esperar o a pagar la app. Actualmente la puerta se encuentra en nivel 30 y se pretende pasar al nivel 40, para comprobar la retencion a 1 y 7 dias. Antes de realizar el cambio definitivo en el juego se raliza un test AB.\n",
    "\n",
    "Los datos estan alojados en `data/cookie_cats.csv`. Nuestro grupo de control sera la version actual `gate_30` y el grupo de tratamiento sera la version `gate_40`. Debemos realizar el test para 1 dia de retencion `retention_1` y para 7 dias `retention_7`."
   ]
  },
  {
   "cell_type": "code",
   "execution_count": 1,
   "id": "ac3b2f52",
   "metadata": {},
   "outputs": [],
   "source": [
    "# librerias\n",
    "\n",
    "import pandas as pd\n",
    "import numpy as np\n",
    "\n",
    "from statsmodels.stats.proportion import proportions_ztest, proportion_confint\n",
    "from scipy.stats import norm, sem\n",
    "\n",
    "import pylab as plt"
   ]
  },
  {
   "cell_type": "code",
   "execution_count": null,
   "id": "53464751",
   "metadata": {},
   "outputs": [],
   "source": [
    "# datos\n",
    "\n",
    "# Grupo de control nivel 30 = 44700\n",
    "# Grupo de tratamiento nivel 40 = 45489\n",
    "\n",
    "##Entran en el día 1\n",
    "    # False 50036\n",
    "    # True 40153\n",
    "\n",
    "# Entran en el día 7\n",
    "    # False 73408\n",
    "    # True 16781\n",
    "\n"
   ]
  },
  {
   "cell_type": "code",
   "execution_count": 10,
   "id": "7fe515c2",
   "metadata": {},
   "outputs": [
    {
     "data": {
      "text/plain": [
       "(90189, 5)"
      ]
     },
     "execution_count": 10,
     "metadata": {},
     "output_type": "execute_result"
    }
   ],
   "source": [
    "df = pd.read_csv(\"data/cookie_cats.csv\") #Importo mi dataframe \n",
    "df.head(7)\n",
    "\n"
   ]
  },
  {
   "cell_type": "code",
   "execution_count": 12,
   "id": "6c0bf05e",
   "metadata": {},
   "outputs": [
    {
     "data": {
      "text/plain": [
       "(90189, 5)"
      ]
     },
     "execution_count": 12,
     "metadata": {},
     "output_type": "execute_result"
    }
   ],
   "source": [
    "df.shape\n"
   ]
  },
  {
   "cell_type": "code",
   "execution_count": 11,
   "id": "f2e6147a",
   "metadata": {},
   "outputs": [],
   "source": [
    "# Grupo de control versión clásica sin modificar, gate 30\n",
    "# Grupo de tratamiento versión nueva modificada, gate 40\n",
    "\n",
    "control_group = df[df[\"version\"] == \"gate_30\"]\n",
    "tratament_group =  df[df[\"version\"] == \"gate_40\"]"
   ]
  },
  {
   "cell_type": "code",
   "execution_count": 14,
   "id": "c0ee5e33",
   "metadata": {},
   "outputs": [
    {
     "name": "stdout",
     "output_type": "stream",
     "text": [
      "0.4481879194630872\n",
      "0.44228274967574577\n"
     ]
    }
   ],
   "source": [
    "# Probamos primero en el día 1 para los dos grupos\n",
    "entran_1_control = control_group[\"retention_1\"].mean()  #Observo los que entran en el dia 1 del grupo SIN CAMBIOS y saco medias\n",
    "entran_1_tratament = tratament_group[\"retention_1\"].mean() #Observo los que entran en el dia 1 del grupo CON CAMBIOS y saco medias\n",
    "\n",
    "print(entran_1_control) # Sin cambios\n",
    "print(entran_1_tratament) # Con cambios"
   ]
  },
  {
   "cell_type": "code",
   "execution_count": 15,
   "id": "83ae5eb1",
   "metadata": {},
   "outputs": [
    {
     "name": "stdout",
     "output_type": "stream",
     "text": [
      "0.19020134228187918\n",
      "0.18200004396667327\n"
     ]
    }
   ],
   "source": [
    "# Probamos  en el día 7 para los dos grupos\n",
    "\n",
    "entran_7_control = control_group[\"retention_7\"].mean()  #Observo los que entran en el dia 7 del grupo, SIN CAMBIOS y saco medias\n",
    "entran_7_tratament= tratament_group[\"retention_7\"].mean()  #Observo los que entran en el dia 7 ,del grupo CON  CAMBIOS y saco medias\n",
    "\n",
    "print (entran_7_control) # Sin cambios\n",
    "print ( entran_7_tratament) # Con cambios"
   ]
  },
  {
   "cell_type": "code",
   "execution_count": null,
   "id": "beb50751",
   "metadata": {},
   "outputs": [],
   "source": [
    "df[\"retention_1\"].value_counts()"
   ]
  },
  {
   "cell_type": "markdown",
   "id": "4040bb1c",
   "metadata": {},
   "source": [
    "Prueba de hipótesis / testeo"
   ]
  },
  {
   "cell_type": "code",
   "execution_count": 17,
   "id": "4b4e4d02",
   "metadata": {},
   "outputs": [],
   "source": [
    "from scipy.stats import ttest_ind # importo la función ttest de la librería scipy\n",
    "\n",
    "t_stat_1, p_value_1 = ttest_ind(control_group['retention_1'], tratament_group['retention_1'])\n",
    "t_stat_7, p_value_7 = ttest_ind(control_group['retention_7'], tratament_group['retention_7'])\n",
    "\n"
   ]
  },
  {
   "cell_type": "code",
   "execution_count": 29,
   "id": "59f23602",
   "metadata": {},
   "outputs": [
    {
     "name": "stdout",
     "output_type": "stream",
     "text": [
      "Día 1 retención \n",
      "  Grupo de control, 0.4481879194630872\n",
      "\n",
      "Grupo de tratamiento, 0.44228274967574577 \n"
     ]
    }
   ],
   "source": [
    "print(f\"Día 1 retención \\n  Grupo de control, {entran_1_control}\")\n",
    "print (f\"Grupo de tratamiento, {entran_1_tratament} \")"
   ]
  },
  {
   "cell_type": "code",
   "execution_count": null,
   "id": "38f422cb",
   "metadata": {},
   "outputs": [],
   "source": [
    "# muestreo\n",
    "\n",
    "#Grupo de control, los que pagan en el diseño antiguo a la puerta 30\n",
    "\n",
    "\n",
    "\n",
    "#Grupo de tratamiento, los que pagan en el diseño nuevo a la puerta 40"
   ]
  },
  {
   "cell_type": "code",
   "execution_count": null,
   "id": "5b90c429",
   "metadata": {},
   "outputs": [],
   "source": [
    "# testeo para retention_1\n"
   ]
  },
  {
   "cell_type": "code",
   "execution_count": null,
   "id": "a048a711",
   "metadata": {},
   "outputs": [],
   "source": [
    "# testeo para retention_7\n",
    "\n"
   ]
  },
  {
   "cell_type": "code",
   "execution_count": null,
   "id": "cooked-magnet",
   "metadata": {},
   "outputs": [],
   "source": [
    "# conclusiones\n",
    "# Explica detalladamente las conclusiones obtenidas de. tu testeo."
   ]
  }
 ],
 "metadata": {
  "finalized": {
   "timestamp": 1642857010293,
   "trusted": true
  },
  "kernelspec": {
   "display_name": "base",
   "language": "python",
   "name": "python3"
  },
  "language_info": {
   "codemirror_mode": {
    "name": "ipython",
    "version": 3
   },
   "file_extension": ".py",
   "mimetype": "text/x-python",
   "name": "python",
   "nbconvert_exporter": "python",
   "pygments_lexer": "ipython3",
   "version": "3.11.4"
  },
  "toc": {
   "base_numbering": 1,
   "nav_menu": {},
   "number_sections": true,
   "sideBar": true,
   "skip_h1_title": false,
   "title_cell": "Table of Contents",
   "title_sidebar": "Contents",
   "toc_cell": true,
   "toc_position": {},
   "toc_section_display": true,
   "toc_window_display": false
  },
  "varInspector": {
   "cols": {
    "lenName": 16,
    "lenType": 16,
    "lenVar": 40
   },
   "kernels_config": {
    "python": {
     "delete_cmd_postfix": "",
     "delete_cmd_prefix": "del ",
     "library": "var_list.py",
     "varRefreshCmd": "print(var_dic_list())"
    },
    "r": {
     "delete_cmd_postfix": ") ",
     "delete_cmd_prefix": "rm(",
     "library": "var_list.r",
     "varRefreshCmd": "cat(var_dic_list()) "
    }
   },
   "types_to_exclude": [
    "module",
    "function",
    "builtin_function_or_method",
    "instance",
    "_Feature"
   ],
   "window_display": false
  }
 },
 "nbformat": 4,
 "nbformat_minor": 5
}
